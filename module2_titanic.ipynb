{
  "cells": [
    {
      "cell_type": "markdown",
      "metadata": {
        "id": "view-in-github",
        "colab_type": "text"
      },
      "source": [
        "<a href=\"https://colab.research.google.com/github/ElizabethB111/Github-and-Jupyter-setup/blob/main/module2_titanic.ipynb\" target=\"_parent\"><img src=\"https://colab.research.google.com/assets/colab-badge.svg\" alt=\"Open In Colab\"/></a>"
      ]
    },
    {
      "cell_type": "markdown",
      "metadata": {
        "id": "oS6c2A9oKzUG"
      },
      "source": [
        "# Introduction to Human-Centered Data Science\n",
        "\n"
      ]
    },
    {
      "cell_type": "markdown",
      "metadata": {
        "id": "uZ4fY--xK8L2"
      },
      "source": [
        "Welcome to our exploration of the Titanic dataset. We're going to walk through the data science lifecycle using this dataset as an example. With that in mind, the first thing we want to do is determine what question(s) we want to ask.  \n"
      ]
    },
    {
      "cell_type": "markdown",
      "metadata": {
        "id": "5DFNplVrMd3q"
      },
      "source": [
        "## What's the Question?\n",
        "\n",
        "\n"
      ]
    },
    {
      "cell_type": "markdown",
      "metadata": {
        "id": "sZaIih_fMty6"
      },
      "source": [
        "\n",
        "Everyone knows that the Titanic sank after running into an iceberg. Many people lost their lives in the accident, but, spectacularly, many people were able to survive the accident.  \n",
        "\n",
        "That seems like a good place to start, some simple **descriptive** questions to understand more about the event. For example, we can ask:\n",
        "1. How many people were on the Titanic?\n",
        "2. How many survived the accident?\n",
        "3. How many fatalities were there?\n",
        "\n",
        "We can also ask an **exploratory** question:\n",
        "1. Did more men, women, or children die/survive in the accident?\n",
        "\n",
        "And we could ask a **predictive** question: Can we predict whether a passenger would have lived or survived given what we know about them? We might want to know this if we're a safety inspector working for a modern cruise company. Can we learn something about the survival rates on the Titanic that can generalize to new ocean liners?\n",
        "\n",
        "There are other possibilities, and you may have come up with different ones in your earlier reflections. For now, let's keep these and start learning how to answer them with data.\n",
        "\n",
        "\n"
      ]
    },
    {
      "cell_type": "code",
      "execution_count": null,
      "metadata": {
        "id": "EUXvbt9-5C8R"
      },
      "outputs": [],
      "source": []
    },
    {
      "cell_type": "markdown",
      "metadata": {
        "id": "AllC4wAUNLCA"
      },
      "source": [
        "## Collect Data"
      ]
    },
    {
      "cell_type": "markdown",
      "metadata": {
        "id": "UjB0ccHWKzUK"
      },
      "source": [
        "Before we can work with data, we need to get our notebook ready by loading some essential libraries. If you're new to programing, you can think of a library as a toolbox of useful functions that you can borrow and use in your work. The beauty of libraries is that someone else has done the work of creating the tools: You get to use them without needing to build them yourself.\n",
        "\n",
        "In this example, we'll load one of the most important libraries in data science, the Python Data Analysis Library, or `pandas`. You can guess from the name that `pandas` provides tools for data analysis and manipulation. `pandas` is a little long time to type repeatiedly, so you'll often see people import the library and then refer to it by the shorter `pd`."
      ]
    },
    {
      "cell_type": "code",
      "execution_count": null,
      "metadata": {
        "id": "f6Sco1GvKzUL"
      },
      "outputs": [],
      "source": [
        "import pandas as pd"
      ]
    },
    {
      "cell_type": "markdown",
      "metadata": {
        "id": "OIWoWggFKzUM"
      },
      "source": [
        "Some of the many important tools in `pandas` allow us to read and write data files. We can read pdf, Excel, text...all sorts of files. For now, we want to read data from a comma-separated values, or CSV, file. `pandas` has a simple function named `read_csv` to read from a CSV file. We'll use it to read in a file of data related to the Titanic.\n",
        "\n",
        "`pd.read_csv()` means \"call the `read_csv()` function that sits in the `pd` (`pandas`) library. We're going to create a variable called `titanic_df` and set its value to our data table. We'll name the variable `titanic_df` to note that it points to a pandas dataframe (df) containing Titanic data."
      ]
    },
    {
      "cell_type": "code",
      "execution_count": null,
      "metadata": {
        "id": "0jWs9dCHKzUM"
      },
      "outputs": [],
      "source": [
        "# The giant URL below points to a data file named \"titanic3.csv\"\n",
        "titanic_df_URL = \"https://raw.githubusercontent.com/bsmith-classroom/datasets/main/titanic3.csv\"\n",
        "\n",
        "titanic_df = pd.read_csv(titanic_df_URL)"
      ]
    },
    {
      "cell_type": "markdown",
      "metadata": {
        "id": "1wpTzCpGKzUN"
      },
      "source": [
        "Now that we have the data, we should look to see what it looks like. `pandas` has a function named `head` that shows the first few rows of data."
      ]
    },
    {
      "cell_type": "code",
      "execution_count": null,
      "metadata": {
        "id": "2-MPIK-pKzUN"
      },
      "outputs": [],
      "source": [
        "print(titanic_df.head())"
      ]
    },
    {
      "cell_type": "markdown",
      "metadata": {
        "id": "T4Szr54z5C8T"
      },
      "source": [
        "The `info` function displays useful information about the dataset. We can see the data types for each column, for example, the `age` data are currently `float64` numbers.   \n",
        "\n"
      ]
    },
    {
      "cell_type": "code",
      "execution_count": null,
      "metadata": {
        "id": "uaiS4PA0tZGe"
      },
      "outputs": [],
      "source": [
        "print(titanic_df.info())"
      ]
    },
    {
      "cell_type": "markdown",
      "metadata": {
        "id": "nPfi-qq75C8U"
      },
      "source": [
        "We can also see the number of **non-null** entries in each column. Null, or **missing**, values can affect our data analyses later. We'll try to avoid them for them moment. But you can imagine how the missing values complicate things later. As an example, look at the `age` column above: It only has 1046 non-null values out of a possible 1309. That means we don't have age information for every passenger. We'll return to this problem later. First, let's look at the meanings of each column."
      ]
    },
    {
      "cell_type": "markdown",
      "metadata": {
        "id": "I1zbQAalKzUN"
      },
      "source": [
        "### The Data Dictionary\n",
        "We see there are fourteen columns with names `pclass, survived, name, sex, age, sibsp, parch, ticket, fare, cabin, embarked, boat, body, and home.dest`. We need to know a little more about each column name. That's what *data dictionaries* are for: They define the contents of each column. In this case, the data dictionary provides this information:\n",
        "\n",
        "| Column Name   | Description                                               |\n",
        "|---------------|-----------------------------------------------------------|\n",
        "| pclass   | Passenger Class (1 = 1st; 2 = 2nd; 3 = 3rd)         \n",
        "| survived | Did the passenger survive? (0 = No; 1 = Yes)  \n",
        "| name  | Name  \n",
        "sex | Passenger gender  \n",
        "age | Age (in years; fractional if age less than one (1). If the age is estimated, it is in the form xx.5)  \n",
        "sibsp | Number of Siblings/Spouses Aboard  \n",
        "parch | Number of Parents/Children Aboard   \n",
        "ticket | Ticket Number  \n",
        "fare | Passenger Fare (pre-1970 British pound)  \n",
        "cabin | Cabin number  \n",
        "embarked | Port of Embarkation (C = Cherbourg; Q = Queenstown; S = Southampton)  \n",
        "boat | Lifeboat ID if the passenger survived   \n",
        "body | Body number if the passenger didn't survive and the body was recovered   \n",
        "home.dest | the home of the passenger, occasionally followed by their ultimate destination\n"
      ]
    },
    {
      "cell_type": "markdown",
      "metadata": {
        "id": "yeRr-6uW5C8U"
      },
      "source": [
        "Earlier, we used `info` and saw the number of non-null values in each column. We can also see the number of null values using the pandas function `isnull`."
      ]
    },
    {
      "cell_type": "code",
      "execution_count": null,
      "metadata": {
        "id": "za26SSsEKzUO"
      },
      "outputs": [],
      "source": [
        "print(titanic_df.isnull().sum())"
      ]
    },
    {
      "cell_type": "markdown",
      "metadata": {
        "id": "_fuYjtJLmJIW"
      },
      "source": [
        "`isnull` returns `True` if a data value is missing/undefined. We modify if with `sum()` to get a count of all the missing values. We can see that there are 263 missing ages and 1014 missing cabin values.\n",
        "\n",
        "In the dataset, this undefined value is represented by `NaN`, which stands for Not a Number. Take a look:"
      ]
    },
    {
      "cell_type": "code",
      "execution_count": null,
      "metadata": {
        "id": "_5mRhzpaj_4S"
      },
      "outputs": [],
      "source": [
        "print(titanic_df.iloc[886])"
      ]
    },
    {
      "cell_type": "markdown",
      "metadata": {
        "id": "dBZ6nKz9nLxG"
      },
      "source": [
        "The command `iloc` stands for \"integer location.\" Calling `iloc[886]` will return the passenger at the 886th row of data. Ok, it's really the *887th* row because we count rows from zero instead of one.\n",
        "    \n",
        "Look at the entries for `age` and `cabin`, and you'll see the `NaN` symbol. That means we don't know the age and cabin number for this passenger. This may or may not be important; we'll have to consider if these numbers are important given the questions we're asking.  "
      ]
    },
    {
      "cell_type": "markdown",
      "metadata": {
        "id": "ZbIfNfy4mCcL"
      },
      "source": [
        "## Understand the Data"
      ]
    },
    {
      "cell_type": "markdown",
      "metadata": {
        "id": "07TR_0iNqti6"
      },
      "source": [
        "Let's do some preliminary steps to understand more about our data. We learned earlier that each row in out dataset has 12 columns of data. We can do some simiple summarization to discover how these twelve columns look over the entire dataset.  \n",
        "  \n",
        "The function `describe` will give us some simple summary statistics. It's always a good place to start with any dataset."
      ]
    },
    {
      "cell_type": "code",
      "execution_count": null,
      "metadata": {
        "id": "Xucxx7w8qti6"
      },
      "outputs": [],
      "source": [
        "titanic_df.describe()"
      ]
    },
    {
      "cell_type": "markdown",
      "metadata": {
        "id": "VMYrw9hEqti7",
        "outputId": "9da567fb-dc4a-47a2-bfcb-3822debec5eb"
      },
      "source": [
        "We can see a few useful things in this description.\n",
        "1) The first row of the table is labeled `count`, and it tells us how many entries are in each of the columns. In our `titanic_df` dataset, there are 1309 records...or passengers. All of the columns except 1 `age` show 1309 as the `count`.  \n",
        "2) Notice that the `age ` column has 1046 listed for its `count`. That's due to missing data.\n",
        "3) The second row of the table is labeled `mean`: Here's where we'll find the mean or average of each data column. For example, you can see the mean `age` is 29.881135. We'll might want to round that to 30 if we ever need to report it.\n",
        "4) Remember from our data descriptions above that `survived` can take one of two values: 0 if the passenger didn't survive, 1 if they did. The `mean` for this column is 0.381971: 38% of the 1309 passengers in the table survived.\n",
        "5) The passenger class, `pclass`, is another *categorical* variable: It can be first, second, or third (1, 2, or 3). `describe` computes a mean for this column, but it doesn't make sense because the values are categorical. The average here doesn't mean that someone sat in a 2.294882 class.\n",
        "\n",
        "What can we do to get a better understanding of `pclass` and similar categorical variables? `pandas` has a function called `value_counts` that shows how many values are associated with each unique category in a column. For example, it might be useful to see how many passengers were in each passenger class."
      ]
    },
    {
      "cell_type": "code",
      "execution_count": null,
      "metadata": {
        "id": "VRa9yj2QgMjp"
      },
      "outputs": [],
      "source": [
        "titanic_df['pclass'].value_counts()"
      ]
    },
    {
      "cell_type": "markdown",
      "metadata": {
        "id": "YwpeB2Q5gMjp"
      },
      "source": [
        "You can see that 323 passengers were in first class, 184 in second, and 709 sailed in third class. We can also find out how many passengers survived using `value_counts`. To do this, you need to specify a column in `titanic_df` that corresponds to the number of survivors."
      ]
    },
    {
      "cell_type": "code",
      "execution_count": null,
      "metadata": {
        "id": "a8NyburvgMjp"
      },
      "outputs": [],
      "source": [
        "# Use value_counts() to count the number of survivors.\n",
        "# YOUR CODE BELOW\n"
      ]
    },
    {
      "cell_type": "markdown",
      "metadata": {
        "id": "l6rgDbLagMjq"
      },
      "source": [
        "You should see the numbers for those who survived and those who didn't.\n",
        "Another useful trick is to \"normalize\" the numbers into percentages. We do that by setting the `normalize` parameter to True when we call `value_counts()`."
      ]
    },
    {
      "cell_type": "code",
      "execution_count": null,
      "metadata": {
        "id": "LFbVey2hgMjq"
      },
      "outputs": [],
      "source": [
        "# Use value_counts(normalize=True) to get the percentages of survivors.\n",
        "# YOUR CODE BELOW\n"
      ]
    },
    {
      "cell_type": "markdown",
      "metadata": {
        "id": "ZmpMMwd1dxgG"
      },
      "source": [
        "### <span style=\"color: red;\">Question</span>\n",
        "We started by asking three questions. Fill in the answers to these below:"
      ]
    },
    {
      "cell_type": "code",
      "execution_count": null,
      "metadata": {
        "id": "F3piFPsMdxgH"
      },
      "outputs": [],
      "source": [
        "# 1. How many people were on the Titanic?\n",
        "total_passengers = 0 # REPLACE 0 WITH THE CORRECT VALUE\n",
        "\n",
        "# 2. How many survived the accident?\n",
        "total_survivors = 0 # REPLACE 0 WITH THE CORRECT VALUE\n",
        "\n",
        "# 3. How many fatalities were there?\n",
        "total_fatalities = 0 # REPLACE 0 WITH THE CORRECT VALUE\n",
        "\n",
        "# 4. What percentage of passengers survived?\n",
        "percent_survivors = 0.0 # REPLACE 0.0 WITH THE CORRECT PERCENTAGE\n"
      ]
    },
    {
      "cell_type": "markdown",
      "metadata": {
        "id": "hD0M88vFdxgG"
      },
      "source": [
        "### Basic Data Filtering\n",
        "Another way to find the number of survivors is to access the `survived` column and filter out those rows that are equal to 1. Remember that the [data dictionary](#the-data-dictionary) specified that a \"1\" equals survived and a \"0\" equals didn't survive.  \n",
        "\n",
        "So we can write a line of Python that returns only values where `survived == 1`."
      ]
    },
    {
      "cell_type": "code",
      "execution_count": null,
      "metadata": {
        "id": "BMFtuoxddxgG"
      },
      "outputs": [],
      "source": [
        "survivors = titanic_df[titanic_df['survived'] == 1]\n",
        "\n",
        "# use Python's len function to compute the length of the survivors data frame\n",
        "total_number_of_survivors = len(survivors)\n",
        "\n",
        "format(f\"{total_number_of_survivors} people survived the disaster.\")"
      ]
    },
    {
      "cell_type": "markdown",
      "metadata": {
        "id": "XGfMJGiSdxgH"
      },
      "source": [
        "Similarly, we can ask how many passengers on the Titantic were male. For this, we want to look at the `sex` column and select only those rows where `sex == 'male'`. Here's the code:"
      ]
    },
    {
      "cell_type": "code",
      "execution_count": null,
      "metadata": {
        "id": "58Ez0345dxgH"
      },
      "outputs": [],
      "source": [
        "male_passengers = titanic_df[titanic_df['sex'] == 'male']\n",
        "\n",
        "# use len to count the male passengers\n",
        "number_of_male_passengers = len(male_passengers)\n",
        "\n",
        "format(f\"{number_of_male_passengers} men were onboard the Titanic.\")"
      ]
    },
    {
      "cell_type": "markdown",
      "metadata": {
        "id": "GMjjT-K8dxgH"
      },
      "source": [
        "You can combine any number of conditional statements in pandas to focus on specific data. For example, we could ask how many survivors were male? In which case, we want two conditional statements:\n",
        "1. How many people survived (`survived == 1`), AND (&)\n",
        "2. How many people were male (`sex == 'male'`)"
      ]
    },
    {
      "cell_type": "code",
      "execution_count": null,
      "metadata": {
        "id": "rbLq72mVdxgH"
      },
      "outputs": [],
      "source": [
        "male_survivors = titanic_df[(titanic_df['sex'] == 'male') & (titanic_df['survived'] == 1)]\n",
        "\n",
        "# use len to count the number of male survivors\n",
        "number_of_male_survivors = len(male_survivors)\n",
        "\n",
        "print(f\"{number_of_male_survivors} men survived the Titanic disaster.\")"
      ]
    },
    {
      "cell_type": "markdown",
      "metadata": {
        "id": "ZpGhl_xbeUZm"
      },
      "source": [
        "It's your turn now. How many female passengers survived the accident? You'll want to combine the number of survivors (`survived`) AND the number of female passengers (`sex`)."
      ]
    },
    {
      "cell_type": "code",
      "execution_count": null,
      "metadata": {
        "id": "aTUf9-vceo-_"
      },
      "outputs": [],
      "source": [
        "female_survivors = [] # REPLACE THE EMPTY LIST WITH YOUR CODE\n",
        "\n",
        "# use Python's len to count the number of female survivors\n",
        "number_of_female_survivors = len(female_survivors)\n",
        "\n",
        "print(f\"{number_of_female_survivors} women survived the Titanic disaster.\")"
      ]
    },
    {
      "cell_type": "markdown",
      "metadata": {
        "id": "YBaVT49AndBL"
      },
      "source": [
        "What about children? Let's compute the following:\n",
        "1. How many children were on the Titanic? Let's consider \"children\" to be people 18 years old or under.\n",
        "2. How many children survived the disaster?\n",
        "3. What percentage of the women onboard survived? How about for men and childen?"
      ]
    },
    {
      "cell_type": "code",
      "execution_count": null,
      "metadata": {
        "id": "OUCE_3J7RE5p"
      },
      "outputs": [],
      "source": [
        "# How many children were on the Titanic? Let's consider \"children\" to be people\n",
        "# 18 years old or under.\n",
        "children_data = [] # REPLACE THE EMPTY LIST WITH YOUR CODE\n",
        "number_of_children = len(children_data)\n",
        "print(f\"There were {number_of_children} children onboard the Titanic.\")\n",
        "\n",
        "# How many children survived the disaster?\n",
        "child_survivors = []  # REPLACE THE EMPTY LIST WITH YOUR CODE\n",
        "number_of_child_survivors = 0 # REPLACE THE 0 WITH YOUR CODE\n",
        "print(f\"{number_of_child_survivors} of those children survived the accident.\")\n",
        "\n",
        "# What percentage of the women onboard survived?\n",
        "female_passengers = [] # REPLACE THE EMPTY LIST WITH YOUR CODE\n",
        "number_of_female_passengers = 0 # REPLACE THE 0 WITH YOUR CODE\n",
        "percent_female_survivors = number_of_female_survivors / number_of_female_passengers\n",
        "\n",
        "# What percentage of the men onboard survived?\n",
        "percent_male_survivors = 0 # REPLACE THE 0 WITH YOUR CODE\n",
        "\n",
        "# What percentage of the children onboard survived?\n",
        "percent_child_survivors = 0 # REPLACE THE 0 WITH YOUR CODE\n",
        "\n",
        "print(f\"{percent_female_survivors*100:.0f}% of the women onboard survived.\")\n",
        "print(f\"{percent_male_survivors*100:.0f}% of the men onboard survived.\")\n",
        "print(f\"{percent_child_survivors*100:.0f}% of the children onboard survived.\")\n",
        "\n"
      ]
    },
    {
      "cell_type": "markdown",
      "metadata": {
        "id": "vO8eCiZ_5C8a"
      },
      "source": [
        "As an optional exercise, you could compute the percentage of survivors who were women, men, or children."
      ]
    },
    {
      "cell_type": "markdown",
      "metadata": {
        "id": "RGBRQoxugrkb"
      },
      "source": [
        "## Cleaning the Data\n",
        "Let's use the `.info()` function to see some properties of the DataFrame."
      ]
    },
    {
      "cell_type": "code",
      "execution_count": null,
      "metadata": {
        "id": "WzzWyRQWgrkb"
      },
      "outputs": [],
      "source": [
        "titanic_df.info()"
      ]
    },
    {
      "cell_type": "markdown",
      "metadata": {
        "id": "zsLmcAVVlCw7"
      },
      "source": [
        "### The End...For Now\n",
        "\n",
        "Now go back to Canvas to finish up our first look at the Titanic.\n"
      ]
    }
  ],
  "metadata": {
    "colab": {
      "provenance": [],
      "include_colab_link": true
    },
    "kernelspec": {
      "display_name": "MLA",
      "language": "python",
      "name": "python3"
    },
    "language_info": {
      "codemirror_mode": {
        "name": "ipython",
        "version": 3
      },
      "file_extension": ".py",
      "mimetype": "text/x-python",
      "name": "python",
      "nbconvert_exporter": "python",
      "pygments_lexer": "ipython3",
      "version": "3.11.5"
    }
  },
  "nbformat": 4,
  "nbformat_minor": 0
}